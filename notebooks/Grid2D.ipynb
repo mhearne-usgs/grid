{
 "cells": [
  {
   "cell_type": "code",
   "execution_count": 1,
   "metadata": {
    "collapsed": true
   },
   "outputs": [],
   "source": [
    "%matplotlib inline"
   ]
  },
  {
   "cell_type": "code",
   "execution_count": 2,
   "metadata": {
    "collapsed": false
   },
   "outputs": [],
   "source": [
    "import matplotlib.pyplot as plt\n",
    "import numpy as np\n",
    "from grid.grid2d import Grid2D\n",
    "from mpl_toolkits.basemap import Basemap"
   ]
  },
  {
   "cell_type": "code",
   "execution_count": 3,
   "metadata": {
    "collapsed": false
   },
   "outputs": [],
   "source": [
    "xmin = 118.5\n",
    "xmax = 120.5\n",
    "ymin = 32.0\n",
    "ymax = 34.0\n",
    "xdim = 0.25\n",
    "ydim = 0.25\n",
    "ncols = len(np.arange(xmin,xmax+xdim,xdim))\n",
    "nrows = len(np.arange(ymin,ymax+ydim,ydim))\n",
    "data = np.arange(0,nrows*ncols)\n",
    "data.shape = (nrows,ncols)\n",
    "geodict = {'xmin':xmin,\n",
    "           'xmax':xmax,\n",
    "           'ymin':ymin,\n",
    "           'ymax':ymax,\n",
    "           'xdim':xdim,\n",
    "           'ydim':ydim,\n",
    "           'nrows':nrows,\n",
    "           'ncols':ncols}\n",
    "grid = Grid2D(data,geodict)"
   ]
  },
  {
   "cell_type": "code",
   "execution_count": 4,
   "metadata": {
    "collapsed": false
   },
   "outputs": [
    {
     "data": {
      "text/plain": [
       "<matplotlib.image.AxesImage at 0x109f6b810>"
      ]
     },
     "execution_count": 4,
     "metadata": {},
     "output_type": "execute_result"
    },
    {
     "data": {
      "image/png": "[encoded data removed]",
      "text/plain": [
       "<matplotlib.figure.Figure at 0x10996c410>"
      ]
     },
     "metadata": {},
     "output_type": "display_data"
    }
   ],
   "source": [
    "plt.imshow(grid.getData(),interpolation='nearest')"
   ]
  },
  {
   "cell_type": "code",
   "execution_count": null,
   "metadata": {
    "collapsed": true
   },
   "outputs": [],
   "source": []
  },
  {
   "cell_type": "code",
   "execution_count": null,
   "metadata": {
    "collapsed": true
   },
   "outputs": [],
   "source": []
  }
 ],
 "metadata": {
  "kernelspec": {
   "display_name": "Python 2",
   "language": "python",
   "name": "python2"
  },
  "language_info": {
   "codemirror_mode": {
    "name": "ipython",
    "version": 2
   },
   "file_extension": ".py",
   "mimetype": "text/x-python",
   "name": "python",
   "nbconvert_exporter": "python",
   "pygments_lexer": "ipython2",
   "version": "2.7.10"
  }
 },
 "nbformat": 4,
 "nbformat_minor": 0
}
